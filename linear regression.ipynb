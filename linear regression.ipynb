{
 "cells": [
  {
   "cell_type": "code",
   "execution_count": 1,
   "metadata": {},
   "outputs": [],
   "source": [
    "#Here is the linear regression with Gradient decsect \n",
    "#Its a generated data therefore i am not gonna calculate accuracy its just for learning and fun\n",
    "\n",
    "\n",
    "import pandas as pd\n",
    "import matplotlib.pyplot as plt\n",
    "import numpy as np\n",
    "traiN = pd.read_csv(\"train.csv\")\n",
    "tesT = pd.read_csv(\"test.csv\")\n",
    "\n",
    "traiNX = np.array(traiN.x) \n",
    "traiNY = np.array(traiN.y)\n",
    "tesTX = np.array(tesT.x)\n",
    "tesTY = np.array(tesT.y)"
   ]
  },
  {
   "cell_type": "code",
   "execution_count": 17,
   "metadata": {},
   "outputs": [],
   "source": [
    "m = 0\n",
    "c = 0\n",
    "#gradient descent\n",
    "itrations = 100000\n",
    "alpha = 0.000001\n",
    "for r in range(itrations):\n",
    "    TneWM = m - np.dot(alpha,((2/len(traiN))*np.sum((np.dot(np.dot(m,traiNX)+c - traiNY,(traiNX))))))\n",
    "    TneWC = c - np.dot(alpha,((2/len(traiN))*np.sum(np.dot(m,traiNX)+c - traiNY)))\n",
    "    m = TneWM\n",
    "    c = TneWC\n",
    "   "
   ]
  },
  {
   "cell_type": "code",
   "execution_count": 18,
   "metadata": {},
   "outputs": [
    {
     "data": {
      "text/plain": [
       "(0.99891471996556869, 0.0089867186561763644)"
      ]
     },
     "execution_count": 18,
     "metadata": {},
     "output_type": "execute_result"
    }
   ],
   "source": [
    "TneWM,TneWC"
   ]
  },
  {
   "cell_type": "code",
   "execution_count": 19,
   "metadata": {},
   "outputs": [],
   "source": [
    "yl = TneWM*tesTX+ TneWC  #equation of hypothetical line with thetas by gradient descent"
   ]
  },
  {
   "cell_type": "code",
   "execution_count": 23,
   "metadata": {},
   "outputs": [
    {
     "data": {
      "text/plain": [
       "<matplotlib.collections.PathCollection at 0x2611a0b16a0>"
      ]
     },
     "execution_count": 23,
     "metadata": {},
     "output_type": "execute_result"
    },
    {
     "data": {
      "image/png": "[encoded data removed]",
      "text/plain": [
       "<matplotlib.figure.Figure at 0x2611905a080>"
      ]
     },
     "metadata": {},
     "output_type": "display_data"
    }
   ],
   "source": [
    "plt.scatter(tesTX,yl,color = \"red\")  # hypothetical line\n",
    "plt.scatter(tesTX,tesTY, color = \"black\") # data points"
   ]
  },
  {
   "cell_type": "code",
   "execution_count": null,
   "metadata": {},
   "outputs": [],
   "source": []
  }
 ],
 "metadata": {
  "kernelspec": {
   "display_name": "Python 3",
   "language": "python",
   "name": "python3"
  },
  "language_info": {
   "codemirror_mode": {
    "name": "ipython",
    "version": 3
   },
   "file_extension": ".py",
   "mimetype": "text/x-python",
   "name": "python",
   "nbconvert_exporter": "python",
   "pygments_lexer": "ipython3",
   "version": "3.6.4"
  }
 },
 "nbformat": 4,
 "nbformat_minor": 2
}
